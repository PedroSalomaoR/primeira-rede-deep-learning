{
  "nbformat": 4,
  "nbformat_minor": 0,
  "metadata": {
    "colab": {
      "provenance": [],
      "authorship_tag": "ABX9TyNA241GeDAFSCz6oltdSQcu",
      "include_colab_link": true
    },
    "kernelspec": {
      "name": "python3",
      "display_name": "Python 3"
    },
    "language_info": {
      "name": "python"
    }
  },
  "cells": [
    {
      "cell_type": "markdown",
      "metadata": {
        "id": "view-in-github",
        "colab_type": "text"
      },
      "source": [
        "<a href=\"https://colab.research.google.com/github/PedroSalomaoR/primeira-rede-deep-learning/blob/main/deeplearningimplementada.ipynb\" target=\"_parent\"><img src=\"https://colab.research.google.com/assets/colab-badge.svg\" alt=\"Open In Colab\"/></a>"
      ]
    },
    {
      "cell_type": "markdown",
      "source": [
        "Essa é apenas a estrutura da rede, Não é possível rodar sem a colocar os dados!"
      ],
      "metadata": {
        "id": "fIOB_GBLLni6"
      }
    },
    {
      "cell_type": "code",
      "execution_count": 3,
      "metadata": {
        "id": "E84dP7M1FFgW"
      },
      "outputs": [],
      "source": [
        "from keras.models import Sequential\n",
        "from keras.layers import Dense, Dropout, Flatten\n",
        "from keras.layers import Conv2D, MaxPooling2D\n",
        "from keras.optimizers import Adam\n",
        "from tensorflow.keras.preprocessing.image import ImageDataGenerator\n",
        "from keras.callbacks import ReduceLROnPlateau"
      ]
    },
    {
      "cell_type": "markdown",
      "source": [
        "range dos dados de valor possível vá de 0-255 <br>\n",
        "escalonamos os valores entre 0-1 <br>\n",
        "isso torna o modelo menos variante a pequenas alterações"
      ],
      "metadata": {
        "id": "dbBdzzlgFwxs"
      }
    },
    {
      "cell_type": "code",
      "source": [
        "x_train = x_train / 255\n",
        "x_test = x_test / 255\n",
        "\n",
        "model = Sequential()\n",
        "model.add(Conv2D(32, (5,5) , activation='relu', padding='same' , input_shape=(28,28,1)))\n",
        "model.add(Conv2D(64, (5,5) , activation='relu', padding='same'))\n",
        "model.add(MaxPooling2D(pool_size=(2,2)))\n",
        "model.add(Dropout(0.25))\n",
        "model.add(Flatten())\n",
        "model.add(Dense(128, activation='relu'))\n",
        "model.add(Dropout(0.5))\n",
        "model.add(Dense(10, activation='softmax'))"
      ],
      "metadata": {
        "id": "w7YrXGonGHJ6"
      },
      "execution_count": null,
      "outputs": []
    },
    {
      "cell_type": "markdown",
      "source": [
        "usada a camada de saída do classificador <br>\n",
        "gerar as probabilidades para definir a classe de cada entrada"
      ],
      "metadata": {
        "id": "52QOpw6eHNvp"
      }
    },
    {
      "cell_type": "code",
      "source": [
        "optimizer = Adam()\n",
        "model.compile(optimizer=optimizer, loss='categorical_crossentropy', metrics=['accuracy'])\n",
        "print(model.summary())"
      ],
      "metadata": {
        "id": "4QLbnUOmHgI9"
      },
      "execution_count": null,
      "outputs": []
    },
    {
      "cell_type": "markdown",
      "source": [
        "reduz o parâmetro de learning rate se não houver <br>\n",
        "melhoras em determinado números de epocas <br>\n",
        "útil para encontrar o mínimo global"
      ],
      "metadata": {
        "id": "I2g2ppzwID9t"
      }
    },
    {
      "cell_type": "code",
      "source": [
        "learning_rate_reduction = ReduceLROnPlateau(monitor='val_acc',\n",
        "                                            patince=3,\n",
        "                                            verbose=1,\n",
        "                                            factor=0.5,\n",
        "                                            min_lr=0.00001)\n",
        "batch_size = 32\n",
        "epochs = 10\n",
        "\n",
        "history = model.fit(x_train,\n",
        "                    y_train,\n",
        "                    batch_size=batch_size,\n",
        "                    epochs= epochs,\n",
        "                    validation_split=0.2,\n",
        "                    verbose = 1,\n",
        "                    callbacks = [learning_rate_reduciton])\n",
        "history_dict = history.history\n",
        "acc =  history_dict['acc']\n",
        "val_acc = history_dict['val_acc']\n",
        "range_epochs = range(1, len(acc) + 1)\n",
        "\n",
        "plt.style.use('default')\n",
        "accuracy_val = plt.plot(range_epochs, val_acc, label='Acurácia no conjunto de validação')\n",
        "accuracy_train = plt.plot(range_epochs, acc, label='Acurácia no conjunto de treino', color=\"r\")\n",
        "plt.setp(accuracy_val, linewidth=2.0)\n",
        "plt.setp(accuracy_train, linewidth=2.0)\n",
        "plt.xlabel('Épocas')\n",
        "plt.ylabel('Acurácia')\n",
        "plt.legend(loc = 'lower right')\n",
        "plt.show()"
      ],
      "metadata": {
        "id": "RopZe3nvIcYT"
      },
      "execution_count": null,
      "outputs": []
    }
  ]
}